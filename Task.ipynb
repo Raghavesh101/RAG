{
 "cells": [
  {
   "cell_type": "markdown",
   "id": "bcc84176",
   "metadata": {},
   "source": [
    "# Data Science Task"
   ]
  },
  {
   "cell_type": "code",
   "execution_count": null,
   "id": "87e97a32",
   "metadata": {},
   "outputs": [],
   "source": [
    "import pandas as pd\n",
    "import numpy as np\n",
    "df = pd.read_excel('Sample_Longlist_Data.xlsx')"
   ]
  },
  {
   "cell_type": "code",
   "execution_count": null,
   "id": "63959d34",
   "metadata": {},
   "outputs": [],
   "source": [
    "#Idea about Different columns, Null-count and data type\n",
    "df.info()"
   ]
  },
  {
   "cell_type": "code",
   "execution_count": null,
   "id": "3ee0a805",
   "metadata": {},
   "outputs": [],
   "source": [
    "#size of data\n",
    "df.shape"
   ]
  },
  {
   "cell_type": "code",
   "execution_count": null,
   "id": "db29e764",
   "metadata": {},
   "outputs": [],
   "source": [
    "#initial preview\n",
    "df.head()"
   ]
  },
  {
   "cell_type": "code",
   "execution_count": null,
   "id": "8280c36d",
   "metadata": {},
   "outputs": [],
   "source": [
    "#All the column names\n",
    "df.columns"
   ]
  },
  {
   "cell_type": "code",
   "execution_count": null,
   "id": "1d55b49a",
   "metadata": {},
   "outputs": [],
   "source": [
    "#let us see unique values for categorical data\n",
    "df['category'].value_counts() # 1839 implies all are of 1 category ie. Garden\n",
    "df['category'].unique()\n",
    "df['sellerlink'].unique() # 1839 unique sellers\n",
    "# df['sellerlink-url'] and df['sellerstorefront-url'] contains info about seller hence can be dropped\n",
    "df['sellerratings'].value_counts() #requires further inquiry\n",
    "#sample brand names and URL's can be dropped until further required\n",
    "df['Date Added'].value_counts() #1839 and all are 1 single date"
   ]
  },
  {
   "cell_type": "code",
   "execution_count": null,
   "id": "afc4dea4",
   "metadata": {},
   "outputs": [],
   "source": [
    "df1 = df.drop(['sellerlink','sellerlink-url','sellerstorefront-url','Sample Brand URL','Date Added','category','Sample brand name'],axis = 1)"
   ]
  },
  {
   "cell_type": "code",
   "execution_count": null,
   "id": "cd627f9b",
   "metadata": {},
   "outputs": [],
   "source": [
    "df1"
   ]
  },
  {
   "cell_type": "code",
   "execution_count": null,
   "id": "7ed4c73f",
   "metadata": {},
   "outputs": [],
   "source": [
    "#Removing 'Business name' in seller business name\n",
    "df1['seller business name'] = df1['seller business name'].str.replace('^Business Name:','',regex=True)\n",
    "df1"
   ]
  },
  {
   "cell_type": "code",
   "execution_count": null,
   "id": "86d80309",
   "metadata": {},
   "outputs": [],
   "source": [
    "df1['sellerproductcount'] = df1['sellerproductcount'].fillna('0').str.replace(',', '').astype(int)"
   ]
  },
  {
   "cell_type": "code",
   "execution_count": null,
   "id": "9f1e09b0",
   "metadata": {},
   "outputs": [],
   "source": [
    "df1"
   ]
  },
  {
   "cell_type": "code",
   "execution_count": null,
   "id": "95f6ef43",
   "metadata": {},
   "outputs": [],
   "source": [
    "#Business address with null is removed\n",
    "df1 = df1.dropna(subset=['businessaddress'])\n",
    "df1"
   ]
  },
  {
   "cell_type": "code",
   "execution_count": null,
   "id": "b49e6f6e",
   "metadata": {},
   "outputs": [],
   "source": [
    "\n",
    "#Let us look at Business address and parse on basis of Countries\n",
    "def map_country(code):\n",
    "    if code[-2:] == 'CN':\n",
    "        return 'China'\n",
    "    elif code[-2:] == 'DE':\n",
    "        return 'Germany'\n",
    "    elif code[-2:] == 'US':\n",
    "        return 'USA'\n",
    "    else:\n",
    "        return 'Unknown'"
   ]
  },
  {
   "cell_type": "code",
   "execution_count": null,
   "id": "715afe2e",
   "metadata": {},
   "outputs": [],
   "source": [
    "df1['Seller Country'] = df1['businessaddress'].apply(map_country)"
   ]
  },
  {
   "cell_type": "code",
   "execution_count": null,
   "id": "60c5855c",
   "metadata": {},
   "outputs": [],
   "source": [
    "df1"
   ]
  },
  {
   "cell_type": "code",
   "execution_count": null,
   "id": "a6e1707a",
   "metadata": {},
   "outputs": [],
   "source": [
    "#dropping china\n",
    "df1 = df1[df1[\"Seller Country\"].str.contains(\"China\") == False]"
   ]
  },
  {
   "cell_type": "code",
   "execution_count": null,
   "id": "1a070701",
   "metadata": {},
   "outputs": [],
   "source": [
    "df1"
   ]
  },
  {
   "cell_type": "code",
   "execution_count": null,
   "id": "d1ad49ad",
   "metadata": {},
   "outputs": [],
   "source": [
    "#To separate email and phone numbers\n",
    "import re\n",
    "pattern = r'(?:E-Mail|Email|email):\\s*([^\\s]+(?:\\.com|\\.de|\\.at))'\n",
    "df1['Email'] = df1['sellerdetails'].str.extract(pattern, flags=re.IGNORECASE)\n"
   ]
  },
  {
   "cell_type": "code",
   "execution_count": null,
   "id": "1c300cb1",
   "metadata": {},
   "outputs": [],
   "source": [
    "df1"
   ]
  },
  {
   "cell_type": "code",
   "execution_count": null,
   "id": "c31e3324",
   "metadata": {},
   "outputs": [],
   "source": [
    "pattern = r'(?:Tel\\.|Tel|Telefon):\\s*([\\d-]+)'\n",
    "df1['Telephone'] = df1['sellerdetails'].str.extract(pattern, flags=re.IGNORECASE)"
   ]
  },
  {
   "cell_type": "code",
   "execution_count": null,
   "id": "41439b7c",
   "metadata": {
    "scrolled": true
   },
   "outputs": [],
   "source": [
    "df1"
   ]
  },
  {
   "cell_type": "code",
   "execution_count": null,
   "id": "c3af63fc",
   "metadata": {},
   "outputs": [],
   "source": [
    "#Positive Ratings\n",
    "df1['% positive rating'] = df1['sellerratings'].str.extract(r'(\\d+)\\s*%')\n"
   ]
  },
  {
   "cell_type": "code",
   "execution_count": null,
   "id": "eb84b82a",
   "metadata": {},
   "outputs": [],
   "source": [
    "df1['% positive rating'] = df1['% positive rating'].fillna('0').astype(int)"
   ]
  },
  {
   "cell_type": "code",
   "execution_count": null,
   "id": "59740883",
   "metadata": {},
   "outputs": [],
   "source": [
    "df1['% positive rating'].dtype"
   ]
  },
  {
   "cell_type": "code",
   "execution_count": null,
   "id": "b7e6b310",
   "metadata": {},
   "outputs": [],
   "source": [
    "df1"
   ]
  },
  {
   "cell_type": "code",
   "execution_count": null,
   "id": "5b357196",
   "metadata": {},
   "outputs": [],
   "source": [
    "#df2 = df1.drop(columns=['% positive rateing'],axis=1)"
   ]
  },
  {
   "cell_type": "code",
   "execution_count": null,
   "id": "e9313830",
   "metadata": {},
   "outputs": [],
   "source": [
    "df2 = df1\n",
    "file_name = 'Project_DS.xlsx'\n",
    "  \n",
    "# saving the excel\n",
    "df2.to_excel(file_name)"
   ]
  },
  {
   "cell_type": "code",
   "execution_count": null,
   "id": "d5deca1d",
   "metadata": {},
   "outputs": [],
   "source": [
    "#total ratings\n",
    "df2['Total Ratings'] = df1['sellerratings'].str.extract(r'\\((\\d+)\\s*ratings\\)')"
   ]
  },
  {
   "cell_type": "code",
   "execution_count": null,
   "id": "ef8f94a0",
   "metadata": {},
   "outputs": [],
   "source": [
    "df2\n",
    "file_name='Project_DS'\n",
    "df2.to_excel('Project_DS')"
   ]
  },
  {
   "cell_type": "markdown",
   "id": "7bbc3ad3",
   "metadata": {},
   "source": [
    "# Analysis Time :)"
   ]
  },
  {
   "cell_type": "code",
   "execution_count": null,
   "id": "d12cb0c5",
   "metadata": {},
   "outputs": [],
   "source": [
    "df2.head(50)"
   ]
  },
  {
   "cell_type": "code",
   "execution_count": null,
   "id": "dd92cecf",
   "metadata": {},
   "outputs": [],
   "source": [
    "# Finding best sellers in each country\n",
    "df2['Seller Country'].unique()\n",
    "df2['Seller Country'].value_counts()"
   ]
  },
  {
   "cell_type": "code",
   "execution_count": null,
   "id": "7c57e0d9",
   "metadata": {},
   "outputs": [],
   "source": [
    "# Finding best sellers in Germany, USA and unknown\n",
    "df_germany = df2[df2['Seller Country'] == 'Germany']"
   ]
  },
  {
   "cell_type": "code",
   "execution_count": null,
   "id": "01854c71",
   "metadata": {},
   "outputs": [],
   "source": [
    "df_germany"
   ]
  },
  {
   "cell_type": "code",
   "execution_count": null,
   "id": "951563b5",
   "metadata": {},
   "outputs": [],
   "source": [
    "df2['% positive rating'].dtype"
   ]
  },
  {
   "cell_type": "code",
   "execution_count": null,
   "id": "8c41fcb7",
   "metadata": {},
   "outputs": [],
   "source": [
    "df_g= df_germany.sort_values(\"% positive rating\", axis = 0, ascending = False, inplace = False)"
   ]
  },
  {
   "cell_type": "code",
   "execution_count": null,
   "id": "8e4cc4a1",
   "metadata": {},
   "outputs": [],
   "source": [
    "df_g = df_g.sort_values(\"sellerproductcount\", axis = 0, ascending = False, inplace = False)"
   ]
  },
  {
   "cell_type": "code",
   "execution_count": null,
   "id": "1e3274e3",
   "metadata": {},
   "outputs": [],
   "source": [
    "df_g"
   ]
  },
  {
   "cell_type": "code",
   "execution_count": null,
   "id": "8612783c",
   "metadata": {},
   "outputs": [],
   "source": [
    "df_usa = df2[df2['Seller Country'] == 'USA']\n",
    "df_u = df_usa.sort_values(\"% positive rating\", axis = 0, ascending = False, inplace = False)\n",
    "df_u = df_usa.sort_values(\"sellerproductcount\", axis = 0, ascending = False, inplace = False)"
   ]
  },
  {
   "cell_type": "code",
   "execution_count": null,
   "id": "f5b98321",
   "metadata": {},
   "outputs": [],
   "source": [
    "df_u"
   ]
  },
  {
   "cell_type": "code",
   "execution_count": null,
   "id": "28cda5d6",
   "metadata": {},
   "outputs": [],
   "source": [
    "df_uk = df2[df2['Seller Country'] == 'Unknown']\n",
    "df_u1 = df_uk.sort_values(\"% positive rating\", axis = 0, ascending = False, inplace = False)\n",
    "df_u1 = df_uk.sort_values(\"sellerproductcount\", axis = 0, ascending = False, inplace = False)\n",
    "df_u1"
   ]
  },
  {
   "cell_type": "code",
   "execution_count": null,
   "id": "15ef7243",
   "metadata": {},
   "outputs": [],
   "source": [
    "# Finding best selllers on basis of Hero product rating\n",
    "df2['HeroProdSum'] = df['Hero Product 1 #ratings'] + df['Hero Product 2 #ratings']\n",
    "sorted_hp = df2.sort_values(by='HeroProdSum', ascending=False)"
   ]
  },
  {
   "cell_type": "code",
   "execution_count": null,
   "id": "23a9375e",
   "metadata": {},
   "outputs": [],
   "source": [
    "sorted_hp"
   ]
  },
  {
   "cell_type": "code",
   "execution_count": null,
   "id": "f5036a6f",
   "metadata": {},
   "outputs": [],
   "source": [
    "# worst sellers on basis of negative ratings\n",
    "df_worst = df2.sort_values(\"Max % of negative seller ratings - last 90 days\", axis = 0, ascending = False, inplace = False)"
   ]
  },
  {
   "cell_type": "code",
   "execution_count": null,
   "id": "7720d979",
   "metadata": {},
   "outputs": [],
   "source": [
    "df_worst"
   ]
  },
  {
   "cell_type": "code",
   "execution_count": null,
   "id": "b3aadfcb",
   "metadata": {},
   "outputs": [],
   "source": [
    "#mask = (~df2['Email'].isna()) | (~df2['Telephone'].isna())"
   ]
  },
  {
   "cell_type": "code",
   "execution_count": null,
   "id": "94dcd2f1",
   "metadata": {},
   "outputs": [],
   "source": [
    "# Sort the DataFrame based on the mask and columns in descending order\n",
    "#df2_contact = df2[mask].sort_values(by=['Email', 'Telephone'], ascending=True).append(df2[~mask])"
   ]
  },
  {
   "cell_type": "code",
   "execution_count": null,
   "id": "71a704ef",
   "metadata": {},
   "outputs": [],
   "source": [
    "# sellers ranking on base of ease of contact\n",
    "# Create boolean masks for different cases\n",
    "both_available_mask = ~df2['Email'].isna() & ~df2['Telephone'].isna()\n",
    "either_available_mask = ~both_available_mask & (~df2['Email'].isna() | ~df2['Telephone'].isna())\n",
    "both_nan_mask = df2['Email'].isna() & df2['Telephone'].isna()\n",
    "\n",
    "# Sort the DataFrame based on the masks and columns\n",
    "sorted_df_contact = (\n",
    "    df2[both_available_mask].sort_values(by=['Email', 'Telephone'])\n",
    "    .append(df2[either_available_mask].sort_values(by=['Email', 'Telephone']))\n",
    "    .append(df2[both_nan_mask])\n",
    ")\n"
   ]
  },
  {
   "cell_type": "code",
   "execution_count": null,
   "id": "f99000c8",
   "metadata": {},
   "outputs": [],
   "source": [
    "sorted_df_contact"
   ]
  },
  {
   "cell_type": "code",
   "execution_count": null,
   "id": "cc3b60da",
   "metadata": {},
   "outputs": [],
   "source": []
  }
 ],
 "metadata": {
  "kernelspec": {
   "display_name": "Python 3 (ipykernel)",
   "language": "python",
   "name": "python3"
  },
  "language_info": {
   "codemirror_mode": {
    "name": "ipython",
    "version": 3
   },
   "file_extension": ".py",
   "mimetype": "text/x-python",
   "name": "python",
   "nbconvert_exporter": "python",
   "pygments_lexer": "ipython3",
   "version": "3.9.7"
  }
 },
 "nbformat": 4,
 "nbformat_minor": 5
}
